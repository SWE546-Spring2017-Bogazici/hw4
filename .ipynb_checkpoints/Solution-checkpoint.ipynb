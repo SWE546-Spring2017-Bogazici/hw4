{
 "cells": [
  {
   "cell_type": "markdown",
   "metadata": {},
   "source": [
    "Problem: \"H T H H T T T H T\" Solve this set with gradient descent "
   ]
  },
  {
   "cell_type": "code",
   "execution_count": 44,
   "metadata": {
    "collapsed": true
   },
   "outputs": [],
   "source": [
    "import numpy as np\n",
    "import matplotlib as mpl\n",
    "import matplotlib.pylab as plt\n",
    "\n",
    "def sigmoid(t):\n",
    "    return np.exp(t)/(1+np.exp(t))"
   ]
  },
  {
   "cell_type": "code",
   "execution_count": 55,
   "metadata": {
    "collapsed": false
   },
   "outputs": [],
   "source": [
    "# Implement Gradient Ascent\n",
    "#one for heads 0 for tails\n",
    "y=np.array([[1],[0],[1],[1],[0],[0],[0],[1],[0]])\n",
    "N=len(y)\n",
    "X = np.ones((N,1))\n",
    "w = 0.5\n",
    "eta = 0.02\n",
    "MAX_ITER = 1000"
   ]
  },
  {
   "cell_type": "code",
   "execution_count": 58,
   "metadata": {
    "collapsed": false
   },
   "outputs": [
    {
     "name": "stdout",
     "output_type": "stream",
     "text": [
      "w*: \n",
      "[[-0.22314355]]\n",
      "pi values: \n",
      "[[ 0.44444444]\n",
      " [ 0.44444444]\n",
      " [ 0.44444444]\n",
      " [ 0.44444444]\n",
      " [ 0.44444444]\n",
      " [ 0.44444444]\n",
      " [ 0.44444444]\n",
      " [ 0.44444444]\n",
      " [ 0.44444444]]\n"
     ]
    }
   ],
   "source": [
    "\n",
    "for epoch in range(MAX_ITER):\n",
    "    dL = np.dot(X.T, y-sigmoid(np.dot(X,w)))\n",
    "    w = w + eta*dL\n",
    "    #print(w)\n",
    "\n",
    "#print(\"*\")\n",
    "print(\"w*: \")\n",
    "print(w)\n",
    "pi=sigmoid(X@w)\n",
    "print(\"pi values: \")\n",
    "print(pi)"
   ]
  },
  {
   "cell_type": "code",
   "execution_count": null,
   "metadata": {
    "collapsed": true
   },
   "outputs": [],
   "source": []
  }
 ],
 "metadata": {
  "kernelspec": {
   "display_name": "Python 3",
   "language": "python",
   "name": "python3"
  },
  "language_info": {
   "codemirror_mode": {
    "name": "ipython",
    "version": 3
   },
   "file_extension": ".py",
   "mimetype": "text/x-python",
   "name": "python",
   "nbconvert_exporter": "python",
   "pygments_lexer": "ipython3",
   "version": "3.6.0"
  }
 },
 "nbformat": 4,
 "nbformat_minor": 2
}
